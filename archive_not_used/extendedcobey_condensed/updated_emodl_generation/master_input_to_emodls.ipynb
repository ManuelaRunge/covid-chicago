{
 "cells": [
  {
   "cell_type": "code",
   "execution_count": 1,
   "metadata": {},
   "outputs": [],
   "source": [
    "import pandas as pd"
   ]
  },
  {
   "cell_type": "code",
   "execution_count": 2,
   "metadata": {},
   "outputs": [],
   "source": [
    "from combine_to_master_input_csv import gen_combos"
   ]
  },
  {
   "cell_type": "code",
   "execution_count": 4,
   "metadata": {},
   "outputs": [],
   "source": [
    "gen_combos(['sampled_parameters_4_09_2020', 'scenarios_4_09_2020'], 'master_input_4_09_2020')"
   ]
  },
  {
   "cell_type": "code",
   "execution_count": 5,
   "metadata": {},
   "outputs": [],
   "source": [
    "def gen_emodls(emodl_base='emodl_', master_input_base='master_input_4grps', template_emodl_base='extendedmodel_cobey_age_4grp', \\\n",
    "               duration=365, nruns=3, monitoring_samples=365, prefix='trajectories_', \\\n",
    "               template_cfg_base='extendedmodel_cobey_age_4grp'):\n",
    "    \n",
    "    #Function takes master csv file (output of gen_combos from\n",
    "    #combine_to_master_input_csv.py) and creates an emodl file\n",
    "    #and corresponding cfg file for each line for each line.\n",
    "    #Everything that goes in the emodl is contained within the\n",
    "    #master csv file, whereas everything that goes in the cfg\n",
    "    #file is determined at call (duration, nruns, nsamples,\n",
    "    #etc...). Prefix emodl_base will also be used as the prefix\n",
    "    #for the output cfg files.\n",
    "    \n",
    "    #Read in master input csv to DataFrame...\n",
    "    master_df = pd.read_csv(master_input_base + '.csv', index_col=0)\n",
    "    columns = list(master_df.columns)         \n",
    "    \n",
    "    #Read in template emodl and cfg as strings...\n",
    "    template_emodl = open(template_emodl_base + '.emodl', 'r') \n",
    "    template_e_txt = template_emodl.read() #Read in template emodl as string\n",
    "    template_emodl.close()\n",
    "    \n",
    "    template_cfg = open(template_cfg_base + '.cfg', 'r') \n",
    "    template_c_txt = template_cfg.read() #Read in template emodl as string\n",
    "    template_cfg.close()\n",
    "    \n",
    "    \n",
    "    #Create an emodl file and cfg file with specified base for each row...\n",
    "    for index, row in master_df.iterrows():\n",
    "        template_e = template_e_txt #Writing to output emodl\n",
    "        for col in columns:\n",
    "            if ('@' + col + '@') in template_e:\n",
    "                template_e = template_e.replace('@' + col + '@', str(row[col]))\n",
    "        output_emodl = open(emodl_base + str(index) + '.emodl', 'w')\n",
    "        output_emodl.write(template_e)\n",
    "        output_emodl.close()\n",
    "        \n",
    "        template_c = template_c_txt #Writing to output cfg\n",
    "        template_c = template_c.replace('@duration@', str(duration))\n",
    "        template_c = template_c.replace('@nruns@', str(nruns))\n",
    "        template_c = template_c.replace('@monitoring_samples@', str(duration))\n",
    "        template_c = template_c.replace('@prefix@', prefix + str(index))\n",
    "        output_cfg = open(emodl_base + str(index) + '.cfg', 'w')\n",
    "        output_cfg.write(template_c)\n",
    "        output_cfg.close()"
   ]
  },
  {
   "cell_type": "code",
   "execution_count": 6,
   "metadata": {},
   "outputs": [],
   "source": [
    "gen_emodls('./emodls/emodl_test_', 'master_input_4_09_2020', 'extendedmodel_cobey_age_4grp', prefix='trajectories_')"
   ]
  },
  {
   "cell_type": "code",
   "execution_count": null,
   "metadata": {},
   "outputs": [],
   "source": []
  }
 ],
 "metadata": {
  "kernelspec": {
   "display_name": "Python 3",
   "language": "python",
   "name": "python3"
  },
  "language_info": {
   "codemirror_mode": {
    "name": "ipython",
    "version": 3
   },
   "file_extension": ".py",
   "mimetype": "text/x-python",
   "name": "python",
   "nbconvert_exporter": "python",
   "pygments_lexer": "ipython3",
   "version": "3.7.3"
  }
 },
 "nbformat": 4,
 "nbformat_minor": 2
}
