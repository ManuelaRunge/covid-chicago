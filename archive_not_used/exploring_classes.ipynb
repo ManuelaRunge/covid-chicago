{
 "cells": [
  {
   "cell_type": "code",
   "execution_count": null,
   "metadata": {},
   "outputs": [],
   "source": [
    "## testing the OOP implementation of the project framework. "
   ]
  },
  {
   "cell_type": "code",
   "execution_count": 1,
   "metadata": {},
   "outputs": [],
   "source": [
    "import sys\n",
    "import os\n",
    "from load_paths import load_box_paths\n",
    "import numpy as np\n",
    "import pandas as pd\n",
    "#mpl.rcParams['pdf.fonttype'] = 42\n",
    "\n",
    "import parameters as param\n",
    "\n",
    "\n",
    "##directories\n",
    "user_path = os.path.expanduser('~')\n",
    "datapath, projectpath, wdir, exe_dir, git_dir = load_box_paths()\n",
    "temp_dir = os.path.join(git_dir, '_temp')\n",
    "\n",
    "sim_output_path = os.path.join(wdir, 'sample_trajectories')\n",
    "plot_path = os.path.join(wdir, 'sample_plots')\n",
    "\n",
    "def CI_5(x) :\n",
    "    return np.percentile(x, 5)\n",
    "\n",
    "def CI_95(x) :\n",
    "    return np.percentile(x, 95)\n",
    "\n",
    "def CI_25(x) :\n",
    "    return np.percentile(x, 25)\n",
    "\n",
    "def CI_75(x) :\n",
    "    return np.percentile(x, 75)\n",
    "\n",
    "sys.path.append(git_dir)\n",
    "sys.path.append(os.path.join(git_dir, 'spatial_model/'))\n",
    "\n",
    "import model_classes as mc"
   ]
  },
  {
   "cell_type": "code",
   "execution_count": 2,
   "metadata": {
    "jupyter": {
     "source_hidden": true
    }
   },
   "outputs": [],
   "source": [
    "# param_dic={'ki':param.ki,\n",
    "#            'incubation_pd':param.incubation_pd,\n",
    "#            'recovery_rate':param.recovery_rate,\n",
    "#            'waning':param.waning}"
   ]
  },
  {
   "cell_type": "markdown",
   "metadata": {},
   "source": [
    "# spatial model"
   ]
  },
  {
   "cell_type": "code",
   "execution_count": 3,
   "metadata": {},
   "outputs": [],
   "source": [
    "### instantiating the model1 as a spatial_model class\n",
    "model1= mc.spatial_model(modelname='spatial_test')"
   ]
  },
  {
   "cell_type": "code",
   "execution_count": 4,
   "metadata": {},
   "outputs": [
    {
     "data": {
      "text/plain": [
       "'spatial_test'"
      ]
     },
     "execution_count": 4,
     "metadata": {},
     "output_type": "execute_result"
    }
   ],
   "source": [
    "model1.modelname"
   ]
  },
  {
   "cell_type": "code",
   "execution_count": 5,
   "metadata": {},
   "outputs": [
    {
     "data": {
      "text/plain": [
       "str"
      ]
     },
     "execution_count": 5,
     "metadata": {},
     "output_type": "execute_result"
    }
   ],
   "source": [
    "type(param.groupdic_filename)"
   ]
  },
  {
   "cell_type": "code",
   "execution_count": 6,
   "metadata": {},
   "outputs": [],
   "source": [
    "### using the read_group_dictionary method to read in the county dictionary (which contains population info for each county)\n",
    "county_dic=model1.read_group_dictionary(filepath= os.path.join(git_dir, 'spatial_model', param.groupdic_filename),\n",
    "                                        grpname ='county',\n",
    "                                        testMode=param.testMode,\n",
    "                                        ngroups=param.ngroups\n",
    "                                       )"
   ]
  },
  {
   "cell_type": "code",
   "execution_count": 7,
   "metadata": {},
   "outputs": [
    {
     "data": {
      "text/plain": [
       "{'Adams': [66427, 0, 1, 0],\n",
       " 'Alexander': [6532, 0, 1, 0],\n",
       " 'Bond': [16712, 0, 1, 0],\n",
       " 'Boone': [53606, 0, 1, 0],\n",
       " 'Brown': [6675, 0, 1, 0]}"
      ]
     },
     "execution_count": 7,
     "metadata": {},
     "output_type": "execute_result"
    }
   ],
   "source": [
    "county_dic"
   ]
  },
  {
   "cell_type": "code",
   "execution_count": 8,
   "metadata": {},
   "outputs": [
    {
     "name": "stdout",
     "output_type": "stream",
     "text": [
      "emodl generated\n"
     ]
    }
   ],
   "source": [
    "### generating emodl\n",
    "model1.generate_emodl(county_dic,\n",
    "                      emodl_output= os.path.join(git_dir, 'emodl','{}.emodl'.format(model1.modelname)),\n",
    "                      verbose=False)"
   ]
  },
  {
   "cell_type": "code",
   "execution_count": 9,
   "metadata": {},
   "outputs": [
    {
     "data": {
      "text/plain": [
       "'C:\\\\Users\\\\garrett\\\\iCloudDrive\\\\Documents\\\\GitHub\\\\covid-chicago\\\\emodl\\\\spatial_test.emodl'"
      ]
     },
     "execution_count": 9,
     "metadata": {},
     "output_type": "execute_result"
    }
   ],
   "source": [
    "model1.emodl_output"
   ]
  },
  {
   "cell_type": "code",
   "execution_count": 10,
   "metadata": {},
   "outputs": [
    {
     "name": "stdout",
     "output_type": "stream",
     "text": [
      "scen_1 run\n",
      "scen_2 run\n",
      "sample_0 run\n",
      "scen_3 run\n",
      "scen_4 run\n",
      "sample_1 run\n"
     ]
    }
   ],
   "source": [
    "nscen = model1.runExp(sub_samples=2, exe_dir=exe_dir, git_dir=git_dir)"
   ]
  },
  {
   "cell_type": "code",
   "execution_count": 11,
   "metadata": {},
   "outputs": [
    {
     "data": {
      "text/plain": [
       "4"
      ]
     },
     "execution_count": 11,
     "metadata": {},
     "output_type": "execute_result"
    }
   ],
   "source": [
    "nscen"
   ]
  },
  {
   "cell_type": "code",
   "execution_count": null,
   "metadata": {},
   "outputs": [],
   "source": [
    "df = model1.combineTrajectories(nscen,\n",
    "                                sim_output_path=sim_output_path,\n",
    "                                git_dir=git_dir\n",
    "                               )"
   ]
  },
  {
   "cell_type": "code",
   "execution_count": null,
   "metadata": {},
   "outputs": [],
   "source": [
    "model1.param_df#['Ki'].astype(float)"
   ]
  },
  {
   "cell_type": "code",
   "execution_count": null,
   "metadata": {},
   "outputs": [],
   "source": [
    "df['Ki'].unique()"
   ]
  },
  {
   "cell_type": "code",
   "execution_count": null,
   "metadata": {},
   "outputs": [],
   "source": [
    "model1.melter(df)"
   ]
  },
  {
   "cell_type": "code",
   "execution_count": null,
   "metadata": {},
   "outputs": [],
   "source": [
    "sim_output_path"
   ]
  },
  {
   "cell_type": "code",
   "execution_count": null,
   "metadata": {},
   "outputs": [],
   "source": [
    "model1.detection_plot( df,param.first_day, git_dir=git_dir, allchannels='detected_cumul', chicago=False, chicago_filepath=os.path.join(wdir,'chicago/chicago_cases.csv'), save=False, plotname=\"detected_plot\" )"
   ]
  },
  {
   "cell_type": "code",
   "execution_count": null,
   "metadata": {},
   "outputs": [],
   "source": [
    "# fig, ax = plt.subplots(figsize=(8,6))\n",
    "# df_melted[df_melted['base_channel']=='detected_cumul'].groupby(['base_group'])['time','value','base_group'].plot(kind='line',x='time',y='value',legend=True, ax=ax)\n",
    "# ax.legend(ax.get_legend_handles_labels()[0], list(df_melted['base_group'].unique()))\n",
    "# #ax.legend()\n",
    "# plt.show()"
   ]
  },
  {
   "cell_type": "code",
   "execution_count": null,
   "metadata": {},
   "outputs": [],
   "source": [
    "model1.plot_origional(df, param.custom_channel_list, plot_path )"
   ]
  },
  {
   "cell_type": "markdown",
   "metadata": {},
   "source": [
    "# age model, looking at sampling of params workflow"
   ]
  },
  {
   "cell_type": "code",
   "execution_count": null,
   "metadata": {},
   "outputs": [],
   "source": [
    "modeltype=\"age_model\" # pick from: [extended_mod, extended_orig, simple, spatial_model, age_extended, age_simple]\n",
    "\n",
    "sys.path.append(os.path.join(git_dir, '{}/'.format(modeltype))) ##note this will change for each type of model. need to make this a param\n"
   ]
  },
  {
   "cell_type": "code",
   "execution_count": null,
   "metadata": {},
   "outputs": [],
   "source": [
    "### instantiating the model1 as a spatial_model class\n",
    "model2= mc.age_model()"
   ]
  },
  {
   "cell_type": "code",
   "execution_count": null,
   "metadata": {},
   "outputs": [],
   "source": [
    "#age_dic = model2.read_group_dictionary(filename=os.path.join(git_dir,'age_model','age_dic.csv'),grpname=\"age\", Testmode=False)\n"
   ]
  },
  {
   "cell_type": "code",
   "execution_count": null,
   "metadata": {},
   "outputs": [],
   "source": [
    "### using the read_group_dictionary method to read in the county dictionary (which contains population info for each county)\n",
    "grp_dic=model2.read_group_dictionary(filepath= os.path.join(git_dir,model2.modeltype , 'age_dic.csv'),#param.groupdic_filename),\n",
    "                                        grpname = 'age',#param.grpname,\n",
    "                                        testMode=param.testMode,\n",
    "                                        ngroups=param.ngroups\n",
    "                                       )"
   ]
  },
  {
   "cell_type": "code",
   "execution_count": null,
   "metadata": {},
   "outputs": [],
   "source": [
    "grp_dic"
   ]
  },
  {
   "cell_type": "code",
   "execution_count": null,
   "metadata": {},
   "outputs": [],
   "source": [
    "#model2.generate_emodl\n",
    "\n",
    "model2.generate_emodl(grp_dic,\n",
    "                      file_output= os.path.join(git_dir, model2.modeltype,'{}.emodl'.format(model2.modeltype)), verbose=False\n",
    "                     )"
   ]
  },
  {
   "cell_type": "code",
   "execution_count": null,
   "metadata": {},
   "outputs": [],
   "source": [
    "param.Ki"
   ]
  },
  {
   "cell_type": "code",
   "execution_count": null,
   "metadata": {},
   "outputs": [],
   "source": [
    "##### left off here\n",
    "###need ot be able to read a csv in to get these uniform distribution values. \n",
    "\n",
    "def param_sample():\n",
    "    speciesS = 360980\n",
    "    initialAs = np.random.uniform(1, 5)\n",
    "    incubation_pd = np.random.uniform(4.2, 6.63)\n",
    "    time_to_hospitalization = np.random.normal(5.9, 2)\n",
    "    time_to_critical = np.random.normal(5.9, 2)\n",
    "    time_to_death = np.random.uniform(1, 3)\n",
    "    recovery_rate = np.random.uniform(6, 16)\n",
    "    fraction_hospitalized = np.random.uniform(0.1, 5)\n",
    "    fraction_symptomatic = np.random.uniform(0.5, 0.8)\n",
    "    fraction_critical = np.random.uniform(0.1, 5)\n",
    "    reduced_inf_of_det_cases = np.random.uniform(0,1)\n",
    "    cfr = np.random.uniform(0.008, 0.022)\n",
    "    d_Sy = np.random.uniform(0.2, 0.3)\n",
    "    d_H = 1\n",
    "    d_As = 0\n",
    "    Ki = np.random.uniform(1e-6, 9e-5)\n",
    "    return({'speciesS':speciesS,\n",
    "            'initialAs':initialAs,\n",
    "            'incubation_pd':incubation_pd,\n",
    "            'time_to_hospitalization':time_to_hospitalization,\n",
    "            'time_to_critical':time_to_critical,\n",
    "            'time_to_death':time_to_death,\n",
    "            'recovery_rate':recovery_rate,\n",
    "            'fraction_hospitalized':fraction_hospitalized,\n",
    "            'fraction_symptomatic':fraction_symptomatic,\n",
    "            'fraction_critical':fraction_critical,\n",
    "            'reduced_inf_of_det_cases':reduced_inf_of_det_cases,\n",
    "            'cfr':cfr,\n",
    "            'd_Sy':d_Sy,\n",
    "            'd_H':d_H,\n",
    "            'd_As':d_As,\n",
    "            'Ki':Ki})\n",
    "\n",
    "\n",
    "sub_samples= 10\n",
    "#construct a dataframe off the sampled values\n",
    "param_df=pd.DataFrame(param_sample(), index=[0])\n",
    "for i in range(1,sub_samples):\n",
    "    param_df= param_df.append(param_sample(), ignore_index=True)\n"
   ]
  },
  {
   "cell_type": "code",
   "execution_count": null,
   "metadata": {},
   "outputs": [],
   "source": [
    "#pd.DataFrame(param_sample(), index=[0])\n",
    "param_df"
   ]
  },
  {
   "cell_type": "code",
   "execution_count": null,
   "metadata": {},
   "outputs": [],
   "source": [
    "param_df"
   ]
  },
  {
   "cell_type": "code",
   "execution_count": null,
   "metadata": {},
   "outputs": [],
   "source": [
    "fin = open(os.path.join(git_dir, model2.modeltype,'{}.emodl'.format(model2.modeltype)), \"rt\")\n",
    "data = fin.read()"
   ]
  },
  {
   "cell_type": "code",
   "execution_count": null,
   "metadata": {},
   "outputs": [],
   "source": [
    "data"
   ]
  },
  {
   "cell_type": "code",
   "execution_count": null,
   "metadata": {},
   "outputs": [],
   "source": [
    "def replace_and_run_params(inputfile):\n",
    "\n",
    "        fin = open(inputfile, \"rt\")\n",
    "        data = fin.read()\n",
    "        data = data.replace('@speciesS@', str(speciesS))\n",
    "        data = data.replace('@initialAs@', str(initialAs))\n",
    "        data = data.replace('@incubation_pd@', str(incubation_pd))\n",
    "        data = data.replace('@time_to_hospitalization@', str(time_to_hospitalization))\n",
    "        data = data.replace('@time_to_critical@', str(time_to_critical))\n",
    "        data = data.replace('@time_to_death@', str(time_to_death))\n",
    "        data = data.replace('@fraction_hospitalized@', str(fraction_hospitalized))\n",
    "        data = data.replace('@fraction_symptomatic@', str(fraction_symptomatic))\n",
    "        data = data.replace('@fraction_critical@', str(fraction_critical))\n",
    "        data = data.replace('@reduced_inf_of_det_cases@', str(reduced_inf_of_det_cases))\n",
    "        data = data.replace('@cfr@', str(cfr))\n",
    "        data = data.replace('@d_As@', str(d_As))\n",
    "        data = data.replace('@d_Sy@', str(d_Sy))\n",
    "        data = data.replace('@d_H@', str(d_H))\n",
    "        data = data.replace('@recovery_rate@', str(recovery_rate))\n",
    "        data = data.replace('@Ki@', str(Ki))\n",
    "        fin.close()\n",
    "\n",
    "        fin = open(outputfile, \"wt\")\n",
    "        fin.write(data)\n",
    "        fin.close()"
   ]
  },
  {
   "cell_type": "code",
   "execution_count": null,
   "metadata": {},
   "outputs": [],
   "source": [
    "model2.modeltype"
   ]
  },
  {
   "cell_type": "code",
   "execution_count": null,
   "metadata": {},
   "outputs": [],
   "source": [
    "param.modeltype"
   ]
  },
  {
   "cell_type": "code",
   "execution_count": null,
   "metadata": {},
   "outputs": [],
   "source": [
    "model2"
   ]
  },
  {
   "cell_type": "code",
   "execution_count": null,
   "metadata": {},
   "outputs": [],
   "source": []
  }
 ],
 "metadata": {
  "kernelspec": {
   "display_name": "Python 3",
   "language": "python",
   "name": "python3"
  },
  "language_info": {
   "codemirror_mode": {
    "name": "ipython",
    "version": 3
   },
   "file_extension": ".py",
   "mimetype": "text/x-python",
   "name": "python",
   "nbconvert_exporter": "python",
   "pygments_lexer": "ipython3",
   "version": "3.6.2"
  }
 },
 "nbformat": 4,
 "nbformat_minor": 4
}
