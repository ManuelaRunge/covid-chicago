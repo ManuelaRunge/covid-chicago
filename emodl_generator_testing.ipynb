{
 "cells": [
  {
   "cell_type": "code",
   "execution_count": 14,
   "metadata": {},
   "outputs": [],
   "source": [
    "import os\n",
    "import subprocess\n",
    "\n",
    "## directories\n",
    "user_path = os.path.expanduser('~')\n",
    "\n",
    "if \"mrung\" in user_path : \n",
    "    exe_dir = os.path.join(user_path, 'Box/NU-malaria-team/projects/binaries/compartments/')\n",
    "    git_dir = os.path.join(user_path, 'gitrepos/covid-chicago/')\n",
    "elif 'geickelb1' in user_path:\n",
    "    exe_dir = os.path.join(user_path,'Desktop/compartments/')\n",
    "    git_dir = os.path.join(user_path, 'Documents/Github/covid-chicago/')\n",
    "\n",
    "# Selected range values from SEIR Parameter Estimates.xlsx\n",
    "# Need to update to run for sample distributions, rather than discrete values\n",
    "initial_infect = [1,5,10]\n",
    "Ki = [0.0009, 0.05, 0.32]\n",
    "incubation_pd = [6.63, 4.2, 12.4]\n",
    "recovery_rate = [6,13, 16 ]"
   ]
  },
  {
   "cell_type": "code",
   "execution_count": null,
   "metadata": {},
   "outputs": [],
   "source": [
    "; simplemodel\n",
    "\n",
    "(import (rnrs) (emodl cmslib))\n",
    "\n",
    "(start-model \"seir.emodl\")\n",
    "\n",
    "#Illinois specific numbers. ie 12M people, with 12 infected. \n",
    "## chemical species that ar possible\n",
    "(species S 12671809)\n",
    "(species E)\n",
    "(species I 12)\n",
    "(species R)\n"
   ]
  },
  {
   "cell_type": "code",
   "execution_count": 32,
   "metadata": {},
   "outputs": [],
   "source": [
    "### initializing some default parameters and n for counties:\n",
    "county_dic={'illinois':[12671890, 0, 12, 0]} #might need to change the 0's\n",
    "\n",
    "param_dic={'ki':0.00000019,'incubation_pd':6.63, 'recovery_rate':16, 'waning':180}"
   ]
  },
  {
   "cell_type": "code",
   "execution_count": 26,
   "metadata": {},
   "outputs": [],
   "source": [
    "#initial SEIR numbers:\n",
    "def SIER_init(county_dic, county):\n",
    "    \"## chemical species starting values\"\n",
    "    \n",
    "    S= str(\"(species S_{} {})\".format(county, county_dic[county][0]))\n",
    "    E= str(\"(species E_{} {})\".format(county, county_dic[county][1]))\n",
    "    I= str(\"(species I_{} {})\".format(county, county_dic[county][2]))\n",
    "    R= str(\"(species R_{} {})\".format(county, county_dic[county][3]))\n",
    "    \n",
    "    return(S,E,I,R)"
   ]
  },
  {
   "cell_type": "code",
   "execution_count": 30,
   "metadata": {},
   "outputs": [
    {
     "name": "stdout",
     "output_type": "stream",
     "text": [
      "('(species S_illinois 12671890)', '(species E_illinois 0)', '(species I_illinois 12)', '(species R_illinois 0)')\n"
     ]
    }
   ],
   "source": [
    "##testing\n",
    "# S_i, E_i, I_i, R_i = SIER_init(county_dic, 'illinois')\n",
    "# print(S_i)\n",
    "\n",
    "print(SIER_init(county_dic, 'illinois'))"
   ]
  },
  {
   "cell_type": "code",
   "execution_count": 20,
   "metadata": {},
   "outputs": [],
   "source": [
    "def SIER_output(county):\n",
    "    \"## chemical species that are possible (what i want reporeted in output file)\"\n",
    "    S= str(\"(observe susceptible_{} S_{})\".format(county, county))\n",
    "    E= str(\"(observe exposed_{} E_{})\".format(county, county))\n",
    "    I= str(\"(observe infectious_{} I_{})\".format(county, county))\n",
    "    R= str(\"(observe recovered_{} R_{})\".format(county, county))\n",
    "    \n",
    "    return(S,E,I,R)"
   ]
  },
  {
   "cell_type": "code",
   "execution_count": 57,
   "metadata": {},
   "outputs": [
    {
     "data": {
      "text/plain": [
       "('(observe susceptible_illinois S_illinois)',\n",
       " '(observe exposed_illinois E_illinois)',\n",
       " '(observe infectious_illinois I_illinois)',\n",
       " '(observe recovered_illinois R_illinois)')"
      ]
     },
     "execution_count": 57,
     "metadata": {},
     "output_type": "execute_result"
    }
   ],
   "source": [
    "SIER_output('illinois')"
   ]
  },
  {
   "cell_type": "code",
   "execution_count": 100,
   "metadata": {},
   "outputs": [],
   "source": [
    "def params(param_dic):\n",
    "    ki=param_dic['ki']\n",
    "    params_string = \"\"\"\n",
    "(param Ki {})\n",
    "(param incubation_pd {})\n",
    "(param Kl (/ 1 incubation_pd))\n",
    "(param recovery_rate {})\n",
    "(param Kr (/ 1 recovery_rate))\n",
    "(param waning {})\n",
    "(param Kw (/ 1 waning))\n",
    "    \"\"\".format(param_dic['ki'],\n",
    "               param_dic['incubation_pd'],\n",
    "               param_dic['recovery_rate'],\n",
    "               param_dic['waning']\n",
    "              )\n",
    "\n",
    "    return(params_string)"
   ]
  },
  {
   "cell_type": "code",
   "execution_count": 90,
   "metadata": {},
   "outputs": [
    {
     "data": {
      "text/plain": [
       "'(param Ki 1.9e-07)\\n(param incubation_pd 6.63)\\n(param Kl (/ 1 incubation_pd))\\n(param recovery_rate 16)\\n(param Kr (/ 1 recovery_rate))\\n(param waning 180)\\n(param Kw (/ 1 waning))\\n    '"
      ]
     },
     "execution_count": 90,
     "metadata": {},
     "output_type": "execute_result"
    }
   ],
   "source": [
    "params(param_dic)"
   ]
  },
  {
   "cell_type": "code",
   "execution_count": 113,
   "metadata": {},
   "outputs": [],
   "source": [
    "def reactions(county):\n",
    "    county= str(county)\n",
    "    \n",
    "    reaction_str=\"\"\"\n",
    "(reaction exposure   (S_{}) (E_{}) (* Ki S_{} I_{}))\n",
    "(reaction infection  (E_{})   (I_{})   (* Kl E_{}))\n",
    "(reaction recovery   (I_{})   (R_{})   (* Kr I_{}))\n",
    ";(reaction waning     (R_{})   (S_{})   (* Kw R_{}))\n",
    "\n",
    "\"\"\".format(county, county, county,\n",
    "            county, county, county,\n",
    "            county, county, county,\n",
    "            county, county, county,\n",
    "            county)\n",
    "    return(reaction_str)\n"
   ]
  },
  {
   "cell_type": "code",
   "execution_count": 73,
   "metadata": {},
   "outputs": [
    {
     "data": {
      "text/plain": [
       "'(reaction exposure   (S_illinois) (E_illinois) (* Ki S_illinois I_illinois))\\n    (reaction infection  (E_illinois)   (I_illinois)   (* Kl E_illinois))\\n    (reaction recovery   (I_illinois)   (R_illinois)   (* Kr I_illinois))\\n    ;(reaction waning     (R_illinois)   (S_illinois)   (* Kw R_illinois))\\n    \\n    '"
      ]
     },
     "execution_count": 73,
     "metadata": {},
     "output_type": "execute_result"
    }
   ],
   "source": [
    "reactions('illinois')"
   ]
  },
  {
   "cell_type": "code",
   "execution_count": 102,
   "metadata": {},
   "outputs": [],
   "source": [
    "model_name= \"seir.emodl\"\n",
    "\n",
    "header_str=\"\"\"\n",
    "; simplemodel\n",
    "\n",
    "(import (rnrs) (emodl cmslib))\n",
    "\n",
    "(start-model \"{}\")\n",
    "\n",
    "\"\"\".format(model_name)\n",
    "\n",
    "\n",
    "footer_str =\"(end-model)\""
   ]
  },
  {
   "cell_type": "code",
   "execution_count": 54,
   "metadata": {},
   "outputs": [],
   "source": [
    "total_string=\"\""
   ]
  },
  {
   "cell_type": "code",
   "execution_count": 55,
   "metadata": {},
   "outputs": [
    {
     "data": {
      "text/plain": [
       "'\\n; simplemodel\\n\\n(import (rnrs) (emodl cmslib))\\n\\n(start-model \"seir.emodl\")\\n\\n'"
      ]
     },
     "execution_count": 55,
     "metadata": {},
     "output_type": "execute_result"
    }
   ],
   "source": [
    "total_string+ header_str"
   ]
  },
  {
   "cell_type": "code",
   "execution_count": 114,
   "metadata": {},
   "outputs": [
    {
     "name": "stdout",
     "output_type": "stream",
     "text": [
      "\n",
      "; simplemodel\n",
      "\n",
      "(import (rnrs) (emodl cmslib))\n",
      "\n",
      "(start-model \"seir.emodl\")\n",
      "\n",
      "(species S_illinois 12671890)\n",
      "(species E_illinois 0)\n",
      "(species I_illinois 12)\n",
      "(species R_illinois 0)\n",
      "(observe susceptible_illinois S_illinois)\n",
      "(observe exposed_illinois E_illinois)\n",
      "(observe infectious_illinois I_illinois)\n",
      "(observe recovered_illinois R_illinois)\n",
      "\n",
      "(param Ki 1.9e-07)\n",
      "(param incubation_pd 6.63)\n",
      "(param Kl (/ 1 incubation_pd))\n",
      "(param recovery_rate 16)\n",
      "(param Kr (/ 1 recovery_rate))\n",
      "(param waning 180)\n",
      "(param Kw (/ 1 waning))\n",
      "    \n",
      "(reaction exposure   (S_illinois) (E_illinois) (* Ki S_illinois I_illinois))\n",
      "(reaction infection  (E_illinois)   (I_illinois)   (* Kl E_illinois))\n",
      "(reaction recovery   (I_illinois)   (R_illinois)   (* Kr I_illinois))\n",
      ";(reaction waning     (R_illinois)   (S_illinois)   (* Kw R_illinois))\n",
      "\n",
      "(end-model)\n"
     ]
    }
   ],
   "source": [
    "#working towards assembling the main\n",
    "total_string=\"\"\n",
    "total_string= total_string+ header_str\n",
    "\n",
    "for key in county_dic.keys():\n",
    "    S,E,I,R =SIER_init(county_dic, key)\n",
    "    total_string= total_string+ S + '\\n' + E + '\\n' + I + '\\n' + R + '\\n'\n",
    "    \n",
    "    S,E,I,R =SIER_output(key)\n",
    "    total_string= total_string+ S + '\\n' + E + '\\n' + I + '\\n' + R + '\\n'\n",
    "    \n",
    "param= params(param_dic)\n",
    "total_string= total_string+ param\n",
    "\n",
    "for key in county_dic.keys(): \n",
    "    reaction= reactions(key)\n",
    "    total_string= total_string+ reaction\n",
    "total_string=total_string+footer_str\n",
    "    \n",
    "\n",
    "print(total_string)\n",
    "    "
   ]
  },
  {
   "cell_type": "code",
   "execution_count": 115,
   "metadata": {},
   "outputs": [],
   "source": [
    "fin = open(\"GE_generated_test.emodl\", \"w\")\n",
    "#text_file = open(\"sample.txt\", \"w\")\n",
    "fin.write(total_string)\n",
    "fin.close()\n"
   ]
  },
  {
   "cell_type": "code",
   "execution_count": null,
   "metadata": {},
   "outputs": [],
   "source": [
    "    for i in enumerate(param) :\n",
    "        print(i)\n",
    "        fin = open(\"simplemodel_covid.emodl\", \"rt\")\n",
    "        data = fin.read()\n",
    "        if(paramname ==  \"initial_infect\") : data = data.replace('(species I 10)', '(species I ' + str(i[1]) +')')\n",
    "        if (paramname == \"Ki\") : data = data.replace('(param Ki 0.319)', '(param Ki '  + str(i[1]) +')')\n",
    "        if (paramname == \"incubation_pd\") : data = data.replace('(param incubation_pd 6.63)', '(param incubation_pd ' + str(i[1]) +')')\n",
    "        if (paramname == \"recovery_rate\") :data = data.replace('(param recovery_rate 16)', '(param recovery_rate '  + str(i[1]) +')')\n",
    "        fin.close()\n",
    "        fin = open(\"simplemodel_covid_i.emodl\", \"wt\")\n",
    "        fin.write(data)\n",
    "        fin.close()\n",
    "        # adjust simplemodel.cfg file as well\n",
    "        fin = open(\"simplemodel.cfg\", \"rt\")\n",
    "        data_cfg = fin.read()\n",
    "        data_cfg = data_cfg.replace('trajectories', 'trajectories_' + paramname + '_' + str(i[1]) )\n",
    "        fin.close()\n",
    "        fin = open(\"simplemodel_i.cfg\", \"wt\")\n",
    "        fin.write(data_cfg)\n",
    "        fin.close()\n",
    "        file = open('runModel_i.bat', 'w')\n",
    "        file.write('\\n\"' + os.path.join(exe_dir, \"compartments.exe\") + '\"' + ' -c ' + '\"' + os.path.join(git_dir, \"simplemodel_i.cfg\") +\n",
    "                   '\"' + ' -m ' + '\"' + os.path.join( git_dir, \"simplemodel_covid_i.emodl\", ) + '\"')\n",
    "        file.close()\n",
    "        subprocess.call([r'runModel_i.bat'])"
   ]
  },
  {
   "cell_type": "code",
   "execution_count": 64,
   "metadata": {},
   "outputs": [
    {
     "name": "stdout",
     "output_type": "stream",
     "text": [
      "illinois\n"
     ]
    }
   ],
   "source": [
    "for key in county_dic.keys(): \n",
    "    print(str(key))"
   ]
  },
  {
   "cell_type": "code",
   "execution_count": null,
   "metadata": {},
   "outputs": [],
   "source": [
    "; simplemodel\n",
    "\n",
    "(import (rnrs) (emodl cmslib))\n",
    "\n",
    "(start-model \"seir.emodl\")\n",
    "\n",
    "#Illinois specific numbers. ie 12M people, with 12 infected. \n",
    "## chemical species that ar possible\n",
    "(species S 12671809)\n",
    "(species E)\n",
    "(species I 12)\n",
    "(species R)\n",
    "\n",
    "## chemical species that ar possible (what i want reporeted in output file)\n",
    "(observe susceptible S)\n",
    "(observe exposed     E)\n",
    "(observe infectious  I)\n",
    "(observe recovered   R)\n",
    "\n",
    "## chemical species that ar possible. population= sum(s,e,i,r)\n",
    "### ;=comment out\n",
    ";(observe population  (sum S E I R))\n",
    "\n",
    "## chemical species that ar possible; these are the constants (tho can also be time varying if defined as fxn)\n",
    "### note: this will not change based on # of counties. \n",
    "(param Ki 0.00000019)\n",
    "(param incubation_pd 6.63)\n",
    "(param Kl (/ 1 incubation_pd))\n",
    "(param recovery_rate 16)\n",
    "(param Kr (/ 1 recovery_rate))\n",
    "(param waning 180)\n",
    "(param Kw (/ 1 waning))\n",
    "\n",
    "### the emodel itself could specify all of the counties. this would make the file ~600 lines long, ie SEIR for each county\n",
    "### there is an idea of locals. \n",
    "### maybe write a function for all of this and run that function on each county?? look into files to see if possible. \n",
    "## these are the actual chemical reactions that are taking place in the system. \n",
    "(reaction exposure   (S) (E) (* Ki S I))  ## S->E at rate~ (Ki, s, i)\n",
    "(reaction infection  (E)   (I)   (* Kl E))\n",
    "(reaction recovery   (I)   (R)   (* Kr I))\n",
    "; (reaction waning     (R)   (S)   (* Kw R))\n",
    "\n",
    "(end-model)"
   ]
  },
  {
   "cell_type": "code",
   "execution_count": null,
   "metadata": {},
   "outputs": [],
   "source": [
    "\n",
    "\n",
    "def runExp_singleParamChange(param, paramname ) :\n",
    "\n",
    "    # param = Ki\n",
    "    # paramname = \"Ki\"\n",
    "    for i in enumerate(param) :\n",
    "        print(i)\n",
    "        fin = open(\"simplemodel_covid.emodl\", \"rt\")\n",
    "        data = fin.read()\n",
    "        if(paramname ==  \"initial_infect\") : data = data.replace('(species I 10)', '(species I ' + str(i[1]) +')')\n",
    "        if (paramname == \"Ki\") : data = data.replace('(param Ki 0.319)', '(param Ki '  + str(i[1]) +')')\n",
    "        if (paramname == \"incubation_pd\") : data = data.replace('(param incubation_pd 6.63)', '(param incubation_pd ' + str(i[1]) +')')\n",
    "        if (paramname == \"recovery_rate\") :data = data.replace('(param recovery_rate 16)', '(param recovery_rate '  + str(i[1]) +')')\n",
    "        fin.close()\n",
    "        fin = open(\"simplemodel_covid_i.emodl\", \"wt\")\n",
    "        fin.write(data)\n",
    "        fin.close()\n",
    "        # adjust simplemodel.cfg file as well\n",
    "        fin = open(\"simplemodel.cfg\", \"rt\")\n",
    "        data_cfg = fin.read()\n",
    "        data_cfg = data_cfg.replace('trajectories', 'trajectories_' + paramname + '_' + str(i[1]) )\n",
    "        fin.close()\n",
    "        fin = open(\"simplemodel_i.cfg\", \"wt\")\n",
    "        fin.write(data_cfg)\n",
    "        fin.close()\n",
    "        file = open('runModel_i.bat', 'w')\n",
    "        file.write('\\n\"' + os.path.join(exe_dir, \"compartments.exe\") + '\"' + ' -c ' + '\"' + os.path.join(git_dir, \"simplemodel_i.cfg\") +\n",
    "                   '\"' + ' -m ' + '\"' + os.path.join( git_dir, \"simplemodel_covid_i.emodl\", ) + '\"')\n",
    "        file.close()\n",
    "        subprocess.call([r'runModel_i.bat'])\n"
   ]
  },
  {
   "cell_type": "code",
   "execution_count": null,
   "metadata": {},
   "outputs": [],
   "source": [
    "runExp_singleParamChange(initial_infect,\"initial_infect\" )\n",
    "runExp_singleParamChange(Ki ,\"Ki \" )\n",
    "runExp_singleParamChange(incubation_pd,\"incubation_pd\" )\n",
    "runExp_singleParamChange(recovery_rate,\"recovery_rate\" )"
   ]
  }
 ],
 "metadata": {
  "kernelspec": {
   "display_name": "Python 3",
   "language": "python",
   "name": "python3"
  },
  "language_info": {
   "codemirror_mode": {
    "name": "ipython",
    "version": 3
   },
   "file_extension": ".py",
   "mimetype": "text/x-python",
   "name": "python",
   "nbconvert_exporter": "python",
   "pygments_lexer": "ipython3",
   "version": "3.6.8"
  }
 },
 "nbformat": 4,
 "nbformat_minor": 4
}
