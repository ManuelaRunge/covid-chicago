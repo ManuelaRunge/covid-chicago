{
 "cells": [
  {
   "cell_type": "code",
   "execution_count": null,
   "metadata": {},
   "outputs": [],
   "source": [
    "library(tidyverse)\n",
    "library(cowplot)\n",
    "library(scales)\n",
    "#library(deSolve)\n",
    "\n",
    "username <- Sys.getenv(\"USERNAME\")\n",
    "project_dir <- file.path(\"C:/Users/\", username, \"/Box/NU-malaria-team/projects/covid_chicago\")\n",
    "\n",
    "\n",
    "## Chicago case data \n",
    "dat <- read.csv(file.path(project_dir, \"Chicago_data/chicago_cases.csv\")) \n",
    "dat <- dat %>% rename(Date = ?..Date) %>% \n",
    "  mutate(Date= as.Date(Date, format= \"%m/%d/%y\"))\n",
    "dat$time <- seq(50, 50+nrow(dat)-1,1)\n",
    "\n",
    "\n",
    "pred <- read.csv( file.path(\"C:/Users/\", username, \"Box/NU-malaria-team/projects/covid_chicago/cms_sim/sample_plots_extendedSEIR/trajectoriesDat_chicago_NHSmarketShare_v1.csv\"))\n",
    "\n",
    "summary(pred$detected)\n",
    "ggplot()+ theme_cowplot() +\n",
    "   geom_line(data=subset(pred, scen_num==1), aes(x=time, y=detected, group=interaction(sample_num, scen_num)))+\n",
    "   geom_line(data=dat, aes(x=time, y=cumulative_cases_calc), col=\"deepskyblue2\")+\n",
    "   geom_point(data=dat, aes(x=time, y=cumulative_cases_calc), fill=\"white\",col=\"deepskyblue2\",size=3,shape=21)\n",
    "\n",
    "\n"
   ]
  }
 ],
 "metadata": {
  "kernelspec": {
   "display_name": "R",
   "language": "R",
   "name": "ir"
  },
  "language_info": {
   "codemirror_mode": "r",
   "file_extension": ".r",
   "mimetype": "text/x-r-source",
   "name": "R",
   "pygments_lexer": "r",
   "version": "3.4.3"
  }
 },
 "nbformat": 4,
 "nbformat_minor": 4
}
