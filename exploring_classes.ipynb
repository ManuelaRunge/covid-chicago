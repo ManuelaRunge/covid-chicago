{
 "cells": [
  {
   "cell_type": "code",
   "execution_count": 1,
   "metadata": {},
   "outputs": [],
   "source": [
    "## testing the OOP implementation of the project framework. "
   ]
  },
  {
   "cell_type": "code",
   "execution_count": 1,
   "metadata": {},
   "outputs": [],
   "source": [
    "def CI_5(x) :\n",
    "    return np.percentile(x, 5)\n",
    "\n",
    "def CI_95(x) :\n",
    "    return np.percentile(x, 95)\n",
    "\n",
    "def CI_25(x) :\n",
    "    return np.percentile(x, 25)\n",
    "\n",
    "def CI_75(x) :\n",
    "    return np.percentile(x, 75)\n"
   ]
  },
  {
   "cell_type": "code",
   "execution_count": 2,
   "metadata": {},
   "outputs": [],
   "source": [
    "import parameters as param\n",
    "import sys\n"
   ]
  },
  {
   "cell_type": "code",
   "execution_count": 3,
   "metadata": {},
   "outputs": [],
   "source": [
    "import sys\n",
    "import os\n",
    "from load_paths import load_box_paths\n",
    "#mpl.rcParams['pdf.fonttype'] = 42\n",
    "\n",
    "import parameters as param\n",
    "\n",
    "\n",
    "##directories\n",
    "user_path = os.path.expanduser('~')\n",
    "datapath, projectpath, wdir, exe_dir, git_dir = load_box_paths()\n",
    "\n",
    "sim_output_path = os.path.join(wdir, 'sample_trajectories')\n",
    "plot_path = os.path.join(wdir, 'sample_plots')"
   ]
  },
  {
   "cell_type": "code",
   "execution_count": 14,
   "metadata": {},
   "outputs": [
    {
     "data": {
      "text/plain": [
       "'C:\\\\Users\\\\garrett\\\\Box/covid_chicago/cms_sim/'"
      ]
     },
     "execution_count": 14,
     "metadata": {},
     "output_type": "execute_result"
    }
   ],
   "source": [
    "wdir"
   ]
  },
  {
   "cell_type": "code",
   "execution_count": 4,
   "metadata": {},
   "outputs": [
    {
     "data": {
      "text/plain": [
       "'C:\\\\Users\\\\garrett\\\\Box/covid_chicago/cms_sim/sample_trajectories'"
      ]
     },
     "execution_count": 4,
     "metadata": {},
     "output_type": "execute_result"
    }
   ],
   "source": [
    "sim_output_path"
   ]
  },
  {
   "cell_type": "code",
   "execution_count": 5,
   "metadata": {},
   "outputs": [],
   "source": [
    "sys.path.append(git_dir)\n",
    "sys.path.append(os.path.join(git_dir, 'spatial_model/'))"
   ]
  },
  {
   "cell_type": "code",
   "execution_count": 6,
   "metadata": {},
   "outputs": [],
   "source": [
    "import model_classes as mc"
   ]
  },
  {
   "cell_type": "code",
   "execution_count": 7,
   "metadata": {},
   "outputs": [],
   "source": [
    "param_dic={'ki':[4.45e-6],\n",
    "           'incubation_pd':[6.63],\n",
    "           'recovery_rate':[16],\n",
    "           'waning':[180]}"
   ]
  },
  {
   "cell_type": "code",
   "execution_count": 8,
   "metadata": {},
   "outputs": [],
   "source": [
    "### instantiating the model1 as a spatial_model class\n",
    "model1= mc.spatial_model(param_dic)"
   ]
  },
  {
   "cell_type": "code",
   "execution_count": 9,
   "metadata": {},
   "outputs": [
    {
     "data": {
      "text/plain": [
       "str"
      ]
     },
     "execution_count": 9,
     "metadata": {},
     "output_type": "execute_result"
    }
   ],
   "source": [
    "type(param.groupdic_filename)"
   ]
  },
  {
   "cell_type": "code",
   "execution_count": 10,
   "metadata": {},
   "outputs": [],
   "source": [
    "### using the read_group_dictionary method to read in the county dictionary (which contains population info for each county)\n",
    "county_dic=model1.read_group_dictionary(filepath= os.path.join(git_dir, 'spatial_model', param.groupdic_filename),\n",
    "                                        grpname ='county',\n",
    "                                        testMode=param.testMode,\n",
    "                                        ngroups=param.ngroups\n",
    "                                       )"
   ]
  },
  {
   "cell_type": "code",
   "execution_count": 17,
   "metadata": {},
   "outputs": [
    {
     "data": {
      "text/plain": [
       "{'Adams': [66427, 0, 1, 0], 'Alexander': [6532, 0, 1, 0]}"
      ]
     },
     "execution_count": 17,
     "metadata": {},
     "output_type": "execute_result"
    }
   ],
   "source": [
    "county_dic"
   ]
  },
  {
   "cell_type": "code",
   "execution_count": 11,
   "metadata": {},
   "outputs": [
    {
     "name": "stdout",
     "output_type": "stream",
     "text": [
      "emodl generated\n"
     ]
    }
   ],
   "source": [
    "### generating emodl\n",
    "model1.generate_emodl(county_dic, param_dic,\n",
    "                      emodl_output= os.path.join(git_dir, 'spatial_model','locale_covid.emodl'),\n",
    "                      verbose=False)"
   ]
  },
  {
   "cell_type": "code",
   "execution_count": 12,
   "metadata": {},
   "outputs": [
    {
     "name": "stdout",
     "output_type": "stream",
     "text": [
      "4.45e-06\n",
      "6e-06\n",
      "4.45e-06\n",
      "6e-06\n"
     ]
    }
   ],
   "source": [
    "nscen = model1.runExp(param.Kivalues, sub_samples=2, exe_dir=exe_dir, git_dir=git_dir)"
   ]
  },
  {
   "cell_type": "code",
   "execution_count": 15,
   "metadata": {},
   "outputs": [],
   "source": [
    "df = model1.combineTrajectories(nscen,sim_output_path=sim_output_path, git_dir=git_dir)"
   ]
  },
  {
   "cell_type": "code",
   "execution_count": 16,
   "metadata": {},
   "outputs": [
    {
     "data": {
      "image/png": "[encoded data removed]",
      "text/plain": [
       "<Figure size 576x432 with 1 Axes>"
      ]
     },
     "metadata": {},
     "output_type": "display_data"
    }
   ],
   "source": [
    "model1.detection_plot( df,param.first_day, git_dir=git_dir, allchannels='detected_cumul', chicago=True, chicago_filepath=os.path.join(wdir,'chicago/chicago_cases.csv'), save=False, plotname=\"detected_plot\" )"
   ]
  },
  {
   "cell_type": "code",
   "execution_count": null,
   "metadata": {},
   "outputs": [],
   "source": []
  }
 ],
 "metadata": {
  "kernelspec": {
   "display_name": "Python 3",
   "language": "python",
   "name": "python3"
  },
  "language_info": {
   "codemirror_mode": {
    "name": "ipython",
    "version": 3
   },
   "file_extension": ".py",
   "mimetype": "text/x-python",
   "name": "python",
   "nbconvert_exporter": "python",
   "pygments_lexer": "ipython3",
   "version": "3.6.2"
  }
 },
 "nbformat": 4,
 "nbformat_minor": 4
}
