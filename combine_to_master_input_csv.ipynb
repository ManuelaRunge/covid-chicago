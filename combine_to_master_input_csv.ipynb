{
 "cells": [
  {
   "cell_type": "code",
   "execution_count": 1,
   "metadata": {},
   "outputs": [],
   "source": [
    "import numpy as np\n",
    "import pandas as pd\n",
    "import itertools"
   ]
  },
  {
   "cell_type": "code",
   "execution_count": 2,
   "metadata": {},
   "outputs": [],
   "source": [
    "def gen_combos(csv_base_list=['sampled_parameters', 'scenarios'], output_base='master_input'):\n",
    "    \n",
    "    #Function takes list of csv bases, generates a master\n",
    "    #csv file with all combinations of parameters contained therein.\n",
    "    #Ensure that all parameters have unique names in input files\n",
    "    #and that multiple input files are supplied.\n",
    "    \n",
    "    dfs_list = ['']*(len(csv_base_list)) #Initialize list to store DataFrames\n",
    "    \n",
    "    #Importing data...\n",
    "    base_index = 0\n",
    "    for base in csv_base_list:\n",
    "        fullname = './' + base + '.csv'\n",
    "        csv_df = pd.read_csv(fullname, header=0).dropna(axis='columns') #Import csv\n",
    "        dfs_list[base_index] = csv_df.copy()\n",
    "        base_index += 1\n",
    "        \n",
    "    #Restructuring data in lists with all possible combinations...    \n",
    "    cool_list = np.array(list(itertools.product(dfs_list[0].to_numpy(),dfs_list[1].to_numpy())))\n",
    "    cool_list = np.array(list(np.concatenate(x) for x in cool_list))\n",
    "    for i in range(2,len(dfs_list)):\n",
    "        cool_list = np.array(list(itertools.product(cool_list,dfs_list[i].to_numpy())))\n",
    "        cool_list = np.array(list(np.concatenate(x) for x in cool_list))\n",
    "    \n",
    "    #Creating a list of columns for use in the final DataFrame...\n",
    "    master_columns = []\n",
    "    for df in dfs_list:\n",
    "        master_columns.extend(np.array(df.columns))\n",
    "    \n",
    "    #Isolating index columns...\n",
    "    index_columns = []\n",
    "    for col in master_columns:\n",
    "        if 'index' in col:\n",
    "            index_columns.append(col)\n",
    "    \n",
    "    #Writing all data to master DataFrame...\n",
    "    master_df = pd.DataFrame(data=cool_list, columns=master_columns)\n",
    "    \n",
    "    #Restructuring master DataFrame to bring index columns to front...\n",
    "    master_df = master_df[[c for c in master_df if c in index_columns]+[c for c in master_df if c not in index_columns]]\n",
    "    \n",
    "    #Writing master dataframe to output csv.\n",
    "    master_df.to_csv(output_base+'.csv')"
   ]
  }
 ],
 "metadata": {
  "kernelspec": {
   "display_name": "Python 3",
   "language": "python",
   "name": "python3"
  },
  "language_info": {
   "codemirror_mode": {
    "name": "ipython",
    "version": 3
   },
   "file_extension": ".py",
   "mimetype": "text/x-python",
   "name": "python",
   "nbconvert_exporter": "python",
   "pygments_lexer": "ipython3",
   "version": "3.7.3"
  }
 },
 "nbformat": 4,
 "nbformat_minor": 2
}
